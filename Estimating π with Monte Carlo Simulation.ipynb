{
 "cells": [
  {
   "cell_type": "code",
   "execution_count": 1,
   "id": "ed6d7ee0-cfdc-46fd-9e67-d9ffd886dd33",
   "metadata": {},
   "outputs": [],
   "source": [
    "import numpy as np"
   ]
  },
  {
   "cell_type": "code",
   "execution_count": 8,
   "id": "8e67e9df-72f1-407f-a9fb-0e482a63c397",
   "metadata": {},
   "outputs": [
    {
     "name": "stdout",
     "output_type": "stream",
     "text": [
      "786136 213864\n"
     ]
    }
   ],
   "source": [
    "a=0\n",
    "f=0\n",
    "t=0\n",
    "while a<1000000:\n",
    "    x1 = np.random.random()\n",
    "    y1 = np.random.random()\n",
    "    c = x1**2+y1**2 <= 1\n",
    "    a=a+1\n",
    "    if c == False:\n",
    "        f=f+1\n",
    "    else:\n",
    "        t=t+1\n",
    "print(t,f)  "
   ]
  },
  {
   "cell_type": "code",
   "execution_count": 9,
   "id": "ce09d794-158c-4c16-a77b-497b49517ff9",
   "metadata": {},
   "outputs": [
    {
     "data": {
      "text/plain": [
       "3.144544"
      ]
     },
     "execution_count": 9,
     "metadata": {},
     "output_type": "execute_result"
    }
   ],
   "source": [
    "pi = 4*t/(t+f)\n",
    "pi"
   ]
  },
  {
   "cell_type": "code",
   "execution_count": null,
   "id": "c42466b1-8b9e-4f1b-a83c-d52c8c79061e",
   "metadata": {},
   "outputs": [],
   "source": []
  }
 ],
 "metadata": {
  "kernelspec": {
   "display_name": "Python 3 (ipykernel)",
   "language": "python",
   "name": "python3"
  },
  "language_info": {
   "codemirror_mode": {
    "name": "ipython",
    "version": 3
   },
   "file_extension": ".py",
   "mimetype": "text/x-python",
   "name": "python",
   "nbconvert_exporter": "python",
   "pygments_lexer": "ipython3",
   "version": "3.13.3"
  }
 },
 "nbformat": 4,
 "nbformat_minor": 5
}
